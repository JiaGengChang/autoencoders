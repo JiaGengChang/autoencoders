{
 "cells": [
  {
   "cell_type": "code",
   "execution_count": 121,
   "id": "04e0d70a",
   "metadata": {},
   "outputs": [],
   "source": [
    "import random\n",
    "import numpy as np\n",
    "import pandas as pd"
   ]
  },
  {
   "cell_type": "markdown",
   "id": "3606ec64",
   "metadata": {},
   "source": [
    "# Threshold function"
   ]
  },
  {
   "cell_type": "code",
   "execution_count": 140,
   "id": "63018d06",
   "metadata": {},
   "outputs": [
    {
     "data": {
      "text/plain": [
       "(1024, 11)"
      ]
     },
     "execution_count": 140,
     "metadata": {},
     "output_type": "execute_result"
    }
   ],
   "source": [
    "n_inputs = 10\n",
    "rowlist = []\n",
    "for i in range(50000):\n",
    "    x = [random.choice([-1,1]) for _ in range(n_inputs)]\n",
    "    y = int(np.heaviside(sum(x), 1))\n",
    "    x.append(y)\n",
    "    rowlist.append(pd.Series(x))\n",
    "\n",
    "df = pd.concat(rowlist,axis=1).T\n",
    "\n",
    "df = df.drop_duplicates()\n",
    "df.shape"
   ]
  },
  {
   "cell_type": "code",
   "execution_count": 141,
   "id": "b06d0e41",
   "metadata": {},
   "outputs": [],
   "source": [
    "num_test = 256\n",
    "df[:-num_test].to_csv(f\"data_{n_inputs}_inputs.csv\",index=False,header=False)\n",
    "df[-num_test:].to_csv(f\"data_{n_inputs}_inputs_test.csv\",index=False,header=False)"
   ]
  },
  {
   "cell_type": "markdown",
   "id": "36c6b152",
   "metadata": {},
   "source": [
    "# Parity function"
   ]
  },
  {
   "cell_type": "code",
   "execution_count": 144,
   "id": "f1804303",
   "metadata": {},
   "outputs": [
    {
     "data": {
      "text/plain": [
       "(1024, 11)"
      ]
     },
     "execution_count": 144,
     "metadata": {},
     "output_type": "execute_result"
    }
   ],
   "source": [
    "n_inputs = 10\n",
    "rowlist = []\n",
    "for i in range(10000):\n",
    "    x = [random.choice([-1,1]) for _ in range(n_inputs)]\n",
    "    y = int(np.prod(x))\n",
    "    x.append(y)\n",
    "    rowlist.append(pd.Series(x))\n",
    "\n",
    "df = pd.concat(rowlist,axis=1).T\n",
    "\n",
    "df = df.drop_duplicates()\n",
    "df.shape"
   ]
  },
  {
   "cell_type": "code",
   "execution_count": 145,
   "id": "233ad5d8",
   "metadata": {},
   "outputs": [],
   "source": [
    "num_test = {10:256, 11:512}[n_inputs]\n",
    "df[:-num_test].to_csv(f\"parity_{n_inputs}_inputs.csv\",index=False,header=False)\n",
    "df[-num_test:].to_csv(f\"parity_{n_inputs}_inputs_test.csv\",index=False,header=False)"
   ]
  },
  {
   "cell_type": "code",
   "execution_count": null,
   "id": "ffb908af",
   "metadata": {},
   "outputs": [],
   "source": []
  }
 ],
 "metadata": {
  "kernelspec": {
   "display_name": "genomics",
   "language": "python",
   "name": "genomics"
  },
  "language_info": {
   "codemirror_mode": {
    "name": "ipython",
    "version": 3
   },
   "file_extension": ".py",
   "mimetype": "text/x-python",
   "name": "python",
   "nbconvert_exporter": "python",
   "pygments_lexer": "ipython3",
   "version": "3.8.10"
  }
 },
 "nbformat": 4,
 "nbformat_minor": 5
}
