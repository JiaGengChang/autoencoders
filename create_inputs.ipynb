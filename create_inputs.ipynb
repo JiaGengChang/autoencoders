{
 "cells": [
  {
   "cell_type": "code",
   "execution_count": 121,
   "id": "a20ff1c9",
   "metadata": {},
   "outputs": [],
   "source": [
    "import random\n",
    "import numpy as np\n",
    "import pandas as pd"
   ]
  },
  {
   "cell_type": "code",
   "execution_count": null,
   "id": "c143cf37",
   "metadata": {},
   "outputs": [],
   "source": [
    "n_inputs = 10\n",
    "rowlist = []\n",
    "for i in range(50000):\n",
    "    x = [random.choice([-1,1]) for _ in range(n_inputs)]\n",
    "    y = int(np.heaviside(sum(x), 1))\n",
    "    x.append(y)\n",
    "    rowlist.append(pd.Series(x))\n",
    "\n",
    "df = pd.concat(rowlist,axis=1).T\n",
    "\n",
    "df = df.drop_duplicates()\n",
    "df.shape"
   ]
  },
  {
   "cell_type": "code",
   "execution_count": null,
   "id": "aeb5160f",
   "metadata": {},
   "outputs": [],
   "source": []
  },
  {
   "cell_type": "code",
   "execution_count": 131,
   "id": "7d820b6d",
   "metadata": {},
   "outputs": [],
   "source": [
    "df.to_csv('data_10_inputs.csv',index=False,header=False)"
   ]
  }
 ],
 "metadata": {
  "kernelspec": {
   "display_name": "genomics",
   "language": "python",
   "name": "genomics"
  },
  "language_info": {
   "codemirror_mode": {
    "name": "ipython",
    "version": 3
   },
   "file_extension": ".py",
   "mimetype": "text/x-python",
   "name": "python",
   "nbconvert_exporter": "python",
   "pygments_lexer": "ipython3",
   "version": "3.8.10"
  }
 },
 "nbformat": 4,
 "nbformat_minor": 5
}
